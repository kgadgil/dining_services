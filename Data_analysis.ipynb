{
 "cells": [
  {
   "cell_type": "code",
   "execution_count": 11,
   "metadata": {},
   "outputs": [
    {
     "name": "stdout",
     "output_type": "stream",
     "text": [
      "[['Menu Item Name' 'Family Group' 'Major Group' 'Qty Sold']\n",
      " ['NB CHICKEN' 'FOOD' 'FOOD' '69635']\n",
      " ['EGG/CHZ N MEAT' 'BREAKFAST' 'FOOD' '47872']]\n",
      "<class 'numpy.str_'>\n"
     ]
    },
    {
     "ename": "TypeError",
     "evalue": "unsupported operand type(s) for +=: 'int' and 'numpy.str_'",
     "output_type": "error",
     "traceback": [
      "\u001b[0;31m-----------------------------------------------------\u001b[0m",
      "\u001b[0;31mTypeError\u001b[0m           Traceback (most recent call last)",
      "\u001b[0;32m<ipython-input-11-66baa86189e1>\u001b[0m in \u001b[0;36m<module>\u001b[0;34m\u001b[0m\n\u001b[1;32m     71\u001b[0m \u001b[0;34m\u001b[0m\u001b[0m\n\u001b[1;32m     72\u001b[0m \u001b[0;32mif\u001b[0m \u001b[0m__name__\u001b[0m \u001b[0;34m==\u001b[0m \u001b[0;34m'__main__'\u001b[0m\u001b[0;34m:\u001b[0m\u001b[0;34m\u001b[0m\u001b[0;34m\u001b[0m\u001b[0m\n\u001b[0;32m---> 73\u001b[0;31m     \u001b[0mmain\u001b[0m\u001b[0;34m(\u001b[0m\u001b[0;34m)\u001b[0m\u001b[0;34m\u001b[0m\u001b[0;34m\u001b[0m\u001b[0m\n\u001b[0m",
      "\u001b[0;32m<ipython-input-11-66baa86189e1>\u001b[0m in \u001b[0;36mmain\u001b[0;34m()\u001b[0m\n\u001b[1;32m     64\u001b[0m             \u001b[0;32mif\u001b[0m \u001b[0mx\u001b[0m \u001b[0;34m==\u001b[0m \u001b[0mgrp\u001b[0m\u001b[0;34m:\u001b[0m\u001b[0;34m\u001b[0m\u001b[0;34m\u001b[0m\u001b[0m\n\u001b[1;32m     65\u001b[0m                 \u001b[0midx\u001b[0m\u001b[0;34m.\u001b[0m\u001b[0mappend\u001b[0m\u001b[0;34m(\u001b[0m\u001b[0mi\u001b[0m\u001b[0;34m)\u001b[0m\u001b[0;34m\u001b[0m\u001b[0;34m\u001b[0m\u001b[0m\n\u001b[0;32m---> 66\u001b[0;31m                 \u001b[0mper_grp_qty\u001b[0m \u001b[0;34m+=\u001b[0m \u001b[0mqty_sold\u001b[0m\u001b[0;34m[\u001b[0m\u001b[0mi\u001b[0m\u001b[0;34m]\u001b[0m\u001b[0;34m\u001b[0m\u001b[0;34m\u001b[0m\u001b[0m\n\u001b[0m\u001b[1;32m     67\u001b[0m             \u001b[0mmgrp_qty\u001b[0m\u001b[0;34m.\u001b[0m\u001b[0mappend\u001b[0m\u001b[0;34m(\u001b[0m\u001b[0mper_grp_qty\u001b[0m\u001b[0;34m)\u001b[0m\u001b[0;34m\u001b[0m\u001b[0;34m\u001b[0m\u001b[0m\n\u001b[1;32m     68\u001b[0m \u001b[0;34m\u001b[0m\u001b[0m\n",
      "\u001b[0;31mTypeError\u001b[0m: unsupported operand type(s) for +=: 'int' and 'numpy.str_'"
     ]
    }
   ],
   "source": [
    "%matplotlib notebook\n",
    "\n",
    "import numpy as np\n",
    "import tensorflow as tf\n",
    "import csv\n",
    "import matplotlib.pyplot as plt\n",
    "\n",
    "def csv_to_np_arr(train_path) :\n",
    "    '''\n",
    "    Read CSV into list of lists\n",
    "    '''\n",
    "    with open(train_path, 'r') as f:\n",
    "        data = list(csv.reader(f, delimiter=','))\n",
    "        #print(data[:3])\n",
    "    data_np = np.array(data)\n",
    "    return data_np\n",
    "\n",
    "def unique(data):\n",
    "    '''\n",
    "    Collect all unique elements from an array and return list\n",
    "    '''\n",
    "    unique_items = list(set(data))\n",
    "    return unique_items\n",
    "\n",
    "def plot(data_x, data_y, xlabel, ylabel, title):\n",
    "    '''\n",
    "    Plot graphs of group vs quantity sold\n",
    "    '''\n",
    "    idx = np.arange(len(data_x))\n",
    "    plt.bar(idx, data_y)\n",
    "    plt.xlabel(xlabel, fontsize=20)\n",
    "    plt.ylabel(ylabel, fontsize=20)\n",
    "    plt.xticks(idx, data_x, fontsize=20, rotation=30)\n",
    "    plt.title(title, fontsize=40)\n",
    "    plt.show()\n",
    "\n",
    "def main():\n",
    "    train_path = 'data/f2018.csv'\n",
    "    data = csv_to_np_arr(train_path)\n",
    "    \n",
    "    #Convert last col (Qty Sold) to int data type - DATA IN NPARR THEREFORE FOLL LOGIC DOESNT WORK\n",
    "    #for item in data[1:]:       #start iterating from 2nd row in order to leave 'Qty Sold' as string\n",
    "    #    item[-1] = int(item[-1])\n",
    "    #print(data[:3]) #print first three rows\n",
    "    \n",
    "    #Collect unique Major Groups, Family groups and menu item names\n",
    "    major_groups = unique(data[1:-1:, 2])\n",
    "    family_group = unique(data[1:-1, 1])\n",
    "    #unique_menu_items = unique(data_np[1:-1, 0])\n",
    "    \n",
    "    menu_items = data[1:-1, 0]\n",
    "    menu_qty_sold = data[1:-1, 3]\n",
    "    #plot(menu_items, menu_qty_sold, 'Menu Items', 'Qty Sold', 'Menu Items vs Qty Sold')\n",
    "    \n",
    "    \n",
    "    qty_sold = data[1:-1, 3]\n",
    "    print(type(qty_sold[0]))\n",
    "    #Combine qty sold for major groups\n",
    "    mgrp_qty = []\n",
    "    for grp in major_groups:\n",
    "        idx = []\n",
    "        per_grp_qty = 0\n",
    "        for i, x in enumerate(data[1:-1:, 2]):\n",
    "            if x == grp:\n",
    "                idx.append(i)\n",
    "                per_grp_qty += qty_sold[i]\n",
    "            mgrp_qty.append(per_grp_qty)\n",
    "     \n",
    "    print(major_groups)\n",
    "    print(mgrp_qty)\n",
    "    \n",
    "if __name__ == '__main__':\n",
    "    main()"
   ]
  },
  {
   "cell_type": "code",
   "execution_count": null,
   "metadata": {},
   "outputs": [],
   "source": []
  }
 ],
 "metadata": {
  "kernelspec": {
   "display_name": "Python 3",
   "language": "python",
   "name": "python3"
  },
  "language_info": {
   "codemirror_mode": {
    "name": "ipython",
    "version": 3
   },
   "file_extension": ".py",
   "mimetype": "text/x-python",
   "name": "python",
   "nbconvert_exporter": "python",
   "pygments_lexer": "ipython3",
   "version": "3.6.7"
  }
 },
 "nbformat": 4,
 "nbformat_minor": 2
}
