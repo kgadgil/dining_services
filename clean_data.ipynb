{
 "cells": [
  {
   "cell_type": "code",
   "execution_count": 1,
   "metadata": {},
   "outputs": [
    {
     "name": "stdout",
     "output_type": "stream",
     "text": [
      "/home/punishment/Projects/dining_services\n",
      "{'.xls': 4757, '.csv': 3567, '.xlsx': 28, '.3': 1268, '.pdf': 3, '.txt': 5, '.py': 1, '.js': 12, '.html': 26, '.gif': 8, '': 17, '.png': 9, '.loaded_1': 2, '.jpg': 4, '.loaded_0': 6, '.loaded_2': 2, '.loaded_3': 2, '.xml': 2, '.css': 2, '.htm': 5, '.4': 1, '.rpt': 1}\n"
     ]
    }
   ],
   "source": [
    "import sys, os, re\n",
    "from datetime import datetime\n",
    "import pandas as pd\n",
    "from os import walk\n",
    "\n",
    "ori = os.getcwd()\n",
    "print(ori)\n",
    "#os.chdir(\"data/Dining data Virginia Tech/\")\n",
    "\n",
    "xls = []\n",
    "xlsx = []\n",
    "f = []\n",
    "d = []\n",
    "c = []\n",
    "ext = {}\n",
    "for dirpath, dirnames, filenames in os.walk(\"data/Dining data Virginia Tech/\", topdown=False):\n",
    "    for name in filenames:\n",
    "        filename, file_extension = os.path.splitext(name)\n",
    "        if file_extension == '.xls' :\n",
    "            if file_extension in ext:\n",
    "                ext[file_extension] += 1\n",
    "            else:\n",
    "                ext[file_extension] = 1\n",
    "            xls.append(os.path.join(dirpath, name))\n",
    "            #print(os.path.join(dirpath, name))\n",
    "        elif file_extension == '.xlsx':\n",
    "            if file_extension in ext:\n",
    "                ext[file_extension] += 1\n",
    "            else:\n",
    "                ext[file_extension] = 1\n",
    "            xlsx.append(os.path.join(dirpath, name))\n",
    "        elif file_extension == '.csv':\n",
    "            if file_extension in ext:\n",
    "                ext[file_extension] += 1\n",
    "            else:\n",
    "                ext[file_extension] = 1\n",
    "            c.append(os.path.join(dirpath, name))      \n",
    "        else:\n",
    "            if file_extension in ext:\n",
    "                ext[file_extension] += 1\n",
    "            else:\n",
    "                ext[file_extension] = 1\n",
    "            f.append(os.path.join(dirpath, name))\n",
    "    for name in dirnames:\n",
    "        #print(os.path.join(dirpath, name))\n",
    "        d.append(os.path.join(dirpath, name))\n",
    "print(ext)"
   ]
  },
  {
   "cell_type": "code",
   "execution_count": 2,
   "metadata": {},
   "outputs": [
    {
     "name": "stdout",
     "output_type": "stream",
     "text": [
      "1192\n"
     ]
    }
   ],
   "source": [
    "cnt=0\n",
    "\n",
    "for file in xls:\n",
    "    csv = file.replace(\".xls\",\".csv\")\n",
    "    try:\n",
    "        data_xls = pd.read_excel(file, 'Sheet0', index_col=None)\n",
    "        data_xls.to_csv(csv, encoding='utf-8')\n",
    "    except:\n",
    "        #print(file)\n",
    "        cnt+=1\n",
    "print(cnt)"
   ]
  },
  {
   "cell_type": "code",
   "execution_count": 6,
   "metadata": {},
   "outputs": [],
   "source": [
    "#for file in c:\n",
    "#read csv file\n",
    "data = pd.read_csv(c[0])\n",
    "#get date from string in row 4\n",
    "#date = data.loc[4, \"Unnamed: 0.1\"]\n",
    "#match = re.search(r'\\d{4}-\\d{2}-\\d{2}', date)\n",
    "#date = datetime.strptime(match.group(), '%Y-%m-%d').date()\n",
    "#date\n",
    "f=open(c[0],\"r\")\n",
    "o = open(\"master.csv\",\"w\")\n",
    "cntr = 0\n",
    "#print(c[0])\n",
    "for line in f:\n",
    "    #print(line)\n",
    "    if \",,,,,\" in line:\n",
    "        break\n",
    "    else:\n",
    "        if cntr == 6:\n",
    "            tokens = re.split(\"/s+\", line)\n",
    "            #print(tokens)\n",
    "        elif cntr >= 9:\n",
    "            print (line)\n",
    "            o.write(line)\n",
    "    cntr +=1\n",
    "        \n",
    "#get center name either from row 5 or from filepath\n",
    "#remove rows 0-5\n",
    "#create columns for data and center name\n",
    "#create column for day of the week and get some code to deliver that from date\n",
    "#use regression from scikit learn to predict values for a particular item for a particular day of the week this year\n",
    "\n",
    "#data"
   ]
  },
  {
   "cell_type": "code",
   "execution_count": null,
   "metadata": {},
   "outputs": [],
   "source": []
  }
 ],
 "metadata": {
  "kernelspec": {
   "display_name": "Python 3",
   "language": "python",
   "name": "python3"
  },
  "language_info": {
   "codemirror_mode": {
    "name": "ipython",
    "version": 3
   },
   "file_extension": ".py",
   "mimetype": "text/x-python",
   "name": "python",
   "nbconvert_exporter": "python",
   "pygments_lexer": "ipython3",
   "version": "3.6.7"
  }
 },
 "nbformat": 4,
 "nbformat_minor": 2
}
