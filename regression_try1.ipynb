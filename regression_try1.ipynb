{
 "cells": [
  {
   "cell_type": "code",
   "execution_count": 301,
   "metadata": {},
   "outputs": [
    {
     "name": "stdout",
     "output_type": "stream",
     "text": [
      "1.14.1-dev20190430\n"
     ]
    }
   ],
   "source": [
    "#Linear Regression\n",
    "#https://www.tensorflow.org/tutorials/keras/regression\n",
    "\n",
    "from __future__ import absolute_import, division, print_function, unicode_literals\n",
    "\n",
    "import pathlib\n",
    "\n",
    "import matplotlib.pyplot as plt\n",
    "import pandas as pd\n",
    "import seaborn as sns\n",
    "\n",
    "import tensorflow as tf\n",
    "\n",
    "from tensorflow import keras\n",
    "from tensorflow.keras import layers\n",
    "\n",
    "print(tf.__version__)"
   ]
  },
  {
   "cell_type": "code",
   "execution_count": 302,
   "metadata": {},
   "outputs": [
    {
     "data": {
      "text/html": [
       "<div>\n",
       "<style scoped>\n",
       "    .dataframe tbody tr th:only-of-type {\n",
       "        vertical-align: middle;\n",
       "    }\n",
       "\n",
       "    .dataframe tbody tr th {\n",
       "        vertical-align: top;\n",
       "    }\n",
       "\n",
       "    .dataframe thead th {\n",
       "        text-align: right;\n",
       "    }\n",
       "</style>\n",
       "<table border=\"1\" class=\"dataframe\">\n",
       "  <thead>\n",
       "    <tr style=\"text-align: right;\">\n",
       "      <th></th>\n",
       "      <th>idx</th>\n",
       "      <th>Menu Item Number</th>\n",
       "      <th>Menu Item</th>\n",
       "      <th>Sales Count</th>\n",
       "      <th>Sales Total</th>\n",
       "      <th>Date</th>\n",
       "      <th>Day</th>\n",
       "      <th>Name of Restaurant</th>\n",
       "    </tr>\n",
       "  </thead>\n",
       "  <tbody>\n",
       "    <tr>\n",
       "      <th>0</th>\n",
       "      <td>7</td>\n",
       "      <td>2429</td>\n",
       "      <td>TO GO</td>\n",
       "      <td>1</td>\n",
       "      <td>0</td>\n",
       "      <td>2019-03-18</td>\n",
       "      <td>0</td>\n",
       "      <td>Origami</td>\n",
       "    </tr>\n",
       "    <tr>\n",
       "      <th>1</th>\n",
       "      <td>8</td>\n",
       "      <td>3624</td>\n",
       "      <td>SALMON POKE BOWL</td>\n",
       "      <td>4</td>\n",
       "      <td>29</td>\n",
       "      <td>2019-03-18</td>\n",
       "      <td>0</td>\n",
       "      <td>Origami</td>\n",
       "    </tr>\n",
       "    <tr>\n",
       "      <th>2</th>\n",
       "      <td>9</td>\n",
       "      <td>3630</td>\n",
       "      <td>SPCY CRAB MAKI</td>\n",
       "      <td>17</td>\n",
       "      <td>114.75</td>\n",
       "      <td>2019-03-18</td>\n",
       "      <td>0</td>\n",
       "      <td>Origami</td>\n",
       "    </tr>\n",
       "    <tr>\n",
       "      <th>3</th>\n",
       "      <td>10</td>\n",
       "      <td>3631</td>\n",
       "      <td>SALM CR CHZ MAKI</td>\n",
       "      <td>8</td>\n",
       "      <td>55.6</td>\n",
       "      <td>2019-03-18</td>\n",
       "      <td>0</td>\n",
       "      <td>Origami</td>\n",
       "    </tr>\n",
       "    <tr>\n",
       "      <th>4</th>\n",
       "      <td>11</td>\n",
       "      <td>3632</td>\n",
       "      <td>TUNA MAKI</td>\n",
       "      <td>2</td>\n",
       "      <td>13.5</td>\n",
       "      <td>2019-03-18</td>\n",
       "      <td>0</td>\n",
       "      <td>Origami</td>\n",
       "    </tr>\n",
       "  </tbody>\n",
       "</table>\n",
       "</div>"
      ],
      "text/plain": [
       "  idx Menu Item Number         Menu Item Sales Count Sales Total        Date  \\\n",
       "0   7             2429             TO GO           1           0  2019-03-18   \n",
       "1   8             3624  SALMON POKE BOWL           4          29  2019-03-18   \n",
       "2   9             3630    SPCY CRAB MAKI          17      114.75  2019-03-18   \n",
       "3  10             3631  SALM CR CHZ MAKI           8        55.6  2019-03-18   \n",
       "4  11             3632         TUNA MAKI           2        13.5  2019-03-18   \n",
       "\n",
       "  Day Name of Restaurant  \n",
       "0   0            Origami  \n",
       "1   0            Origami  \n",
       "2   0            Origami  \n",
       "3   0            Origami  \n",
       "4   0            Origami  "
      ]
     },
     "execution_count": 302,
     "metadata": {},
     "output_type": "execute_result"
    }
   ],
   "source": [
    "dataset_path=\"merged.csv\"\n",
    "column_names = ['idx','Menu Item Number','Menu Item','Sales Count','Sales Total', \n",
    "                'Date', 'Day', 'Name of Restaurant']\n",
    "raw_dataset = pd.read_csv(dataset_path, names=column_names,\n",
    "                      na_values = \"?\",dtype={'idx': object},\n",
    "                      sep=\",\", skiprows=[0])\n",
    "raw_dataset.drop(['idx'], axis=1)\n",
    "dataset = raw_dataset.copy()\n",
    "#find unknown values\n",
    "dataset.isna().sum()\n",
    "#drop rows with unknown values\n",
    "dataset = dataset.dropna()\n",
    "#dataset.tail(30)\n",
    "dataset.head()"
   ]
  },
  {
   "cell_type": "code",
   "execution_count": 303,
   "metadata": {},
   "outputs": [],
   "source": [
    "#useless idx col\n",
    "dataset.pop('idx')\n",
    "#manually clean errors in dataset :(\n",
    "#day column is string, convert it to int \n",
    "dataset['Sales Count'] = dataset['Sales Count'].astype(int)\n",
    "dataset['Sales Total'] = dataset['Sales Total'].astype(float) #encountered '$-' in csv 115610, manually changed to 0\n",
    "dataset['Date'] = pd.to_datetime(dataset['Date'])\n",
    "dataset['Day'] = dataset['Day'].astype(int)\n",
    "\n",
    "#Day column is categorical not numeric\n",
    "day = dataset.pop('Day')\n",
    "# print(day.dtypes)\n",
    "dataset['Mon'] = (day == 0)*1.0\n",
    "dataset['Tues'] = (day == 1)*1.0\n",
    "dataset['Wed'] = (day == 2)*1.0\n",
    "dataset['Thurs'] = (day == 3)*1.0\n",
    "dataset['Fri'] = (day == 4)*1.0\n",
    "dataset['Sat'] = (day == 5)*1.0\n",
    "dataset['Sun'] = (day == 6)*1.0\n",
    "\n",
    "dataset['Year'] = pd.DatetimeIndex(dataset['Date']).year\n",
    "dataset['Month'] = pd.DatetimeIndex(dataset['Date']).month"
   ]
  },
  {
   "cell_type": "code",
   "execution_count": 304,
   "metadata": {},
   "outputs": [],
   "source": [
    "train_dataset = dataset.sample(frac=0.8,random_state=0)\n",
    "test_dataset = dataset.drop(train_dataset.index)\n",
    "#what info would a joint distribution give me for this?\n",
    "#sns.pairplot(train_dataset[['Sales Count','Sales Total']], diag_kind=\"kde\")\n"
   ]
  },
  {
   "cell_type": "code",
   "execution_count": 305,
   "metadata": {},
   "outputs": [],
   "source": [
    "# train_stats = train_dataset.describe()\n",
    "# train_stats.pop(\"Sales Count\")\n",
    "# train_stats = train_stats.transpose()\n",
    "# train_stats"
   ]
  },
  {
   "cell_type": "code",
   "execution_count": 306,
   "metadata": {},
   "outputs": [],
   "source": [
    "# train_stats = train_dataset.describe()\n",
    "# train_stats.pop(\"Sales Total\")\n",
    "# train_stats = train_stats.transpose()\n",
    "# train_stats"
   ]
  },
  {
   "cell_type": "code",
   "execution_count": 307,
   "metadata": {},
   "outputs": [],
   "source": [
    "#Separate the target value, or \"label\", from the features. \n",
    "#This label is the value that you will train the model to predict.\n",
    "train_labels = train_dataset.pop('Sales Count')\n",
    "test_labels = test_dataset.pop('Sales Count')"
   ]
  },
  {
   "cell_type": "code",
   "execution_count": 308,
   "metadata": {},
   "outputs": [
    {
     "name": "stdout",
     "output_type": "stream",
     "text": [
      "Model: \"sequential_9\"\n",
      "_________________________________________________________________\n",
      "Layer (type)                 Output Shape              Param #   \n",
      "=================================================================\n",
      "dense_27 (Dense)             (None, 64)                960       \n",
      "_________________________________________________________________\n",
      "dense_28 (Dense)             (None, 64)                4160      \n",
      "_________________________________________________________________\n",
      "dense_29 (Dense)             (None, 1)                 65        \n",
      "=================================================================\n",
      "Total params: 5,185\n",
      "Trainable params: 5,185\n",
      "Non-trainable params: 0\n",
      "_________________________________________________________________\n"
     ]
    }
   ],
   "source": [
    "def build_model():\n",
    "    #call initializer instance with the dtype argument instead of passing it to the constructor error\n",
    "    #deprecated keras.Sequential, change to tf.keras.Sequential\n",
    "    model = tf.keras.Sequential([\n",
    "    layers.Dense(64, activation='relu', input_shape=[len(train_dataset.keys())]),\n",
    "    layers.Dense(64, activation='relu'),\n",
    "    layers.Dense(1)\n",
    "  ])\n",
    "\n",
    "    optimizer = tf.keras.optimizers.RMSprop(0.001)\n",
    "\n",
    "    model.compile(loss='mse',\n",
    "                optimizer=optimizer,\n",
    "                metrics=['mae', 'mse'])\n",
    "    return model\n",
    "model = build_model()\n",
    "model.summary()"
   ]
  },
  {
   "cell_type": "code",
   "execution_count": 309,
   "metadata": {},
   "outputs": [
    {
     "name": "stdout",
     "output_type": "stream",
     "text": [
      "       Menu Item Number        Menu Item  Sales Total       Date  \\\n",
      "2130               3632        TUNA MAKI       121.50 2018-09-10   \n",
      "242222             5814   BRD TRK-HM-RBF        33.95 2017-03-30   \n",
      "112143             3534  YTG FRT PINAPLE       169.00 2017-04-05   \n",
      "159005             8222       ICED TEA M        26.00 2018-03-14   \n",
      "211170             1953             EGGS         2.00 2019-04-01   \n",
      "109645             2297  SPECIAL CAKE TP        11.25 2018-11-02   \n",
      "57703              6322   STRW SURFRDR M       106.02 2016-10-13   \n",
      "168919             4806        3 T STEAK        87.75 2018-10-26   \n",
      "184595             4858   SIDE GUACAMOLE        21.60 2017-02-08   \n",
      "89477              2314    LORRAINE S CR        57.75 2018-12-12   \n",
      "\n",
      "       Name of Restaurant  Mon  Tues  Wed  Thurs  Fri  Sat  Sun  Year  Month  \n",
      "2130              Origami  1.0   0.0  0.0    0.0  0.0  0.0  0.0  2018      9  \n",
      "242222   Brueggers Bagels  0.0   0.0  0.0    1.0  0.0  0.0  0.0  2017      3  \n",
      "112143      Dolci E Caffe  0.0   0.0  1.0    0.0  0.0  0.0  0.0  2017      4  \n",
      "159005      Dolci E Caffe  0.0   0.0  1.0    0.0  0.0  0.0  0.0  2018      3  \n",
      "211170        Soup Garden  1.0   0.0  0.0    0.0  0.0  0.0  0.0  2019      4  \n",
      "109645      Dolci E Caffe  0.0   0.0  0.0    0.0  1.0  0.0  0.0  2018     11  \n",
      "57703         Jamba Juice  0.0   0.0  0.0    1.0  0.0  0.0  0.0  2016     10  \n",
      "168919    Qdoba Mex Grill  0.0   0.0  0.0    0.0  1.0  0.0  0.0  2018     10  \n",
      "184595    Qdoba Mex Grill  0.0   0.0  1.0    0.0  0.0  0.0  0.0  2017      2  \n",
      "89477       Dolci E Caffe  0.0   0.0  1.0    0.0  0.0  0.0  0.0  2018     12  \n"
     ]
    },
    {
     "ename": "ValueError",
     "evalue": "could not convert string to float: 'TUNA MAKI'",
     "output_type": "error",
     "traceback": [
      "\u001b[0;31m---------------------------------------------------------------------------\u001b[0m",
      "\u001b[0;31mValueError\u001b[0m                                Traceback (most recent call last)",
      "\u001b[0;32m<ipython-input-309-7316d006a2ab>\u001b[0m in \u001b[0;36m<module>\u001b[0;34m\u001b[0m\n\u001b[1;32m      1\u001b[0m \u001b[0mexample_batch\u001b[0m \u001b[0;34m=\u001b[0m \u001b[0mtrain_dataset\u001b[0m\u001b[0;34m[\u001b[0m\u001b[0;34m:\u001b[0m\u001b[0;36m10\u001b[0m\u001b[0;34m]\u001b[0m\u001b[0;34m\u001b[0m\u001b[0;34m\u001b[0m\u001b[0m\n\u001b[1;32m      2\u001b[0m \u001b[0mprint\u001b[0m\u001b[0;34m(\u001b[0m\u001b[0mexample_batch\u001b[0m\u001b[0;34m)\u001b[0m\u001b[0;34m\u001b[0m\u001b[0;34m\u001b[0m\u001b[0m\n\u001b[0;32m----> 3\u001b[0;31m \u001b[0mexample_result\u001b[0m \u001b[0;34m=\u001b[0m \u001b[0mmodel\u001b[0m\u001b[0;34m.\u001b[0m\u001b[0mpredict\u001b[0m\u001b[0;34m(\u001b[0m\u001b[0mexample_batch\u001b[0m\u001b[0;34m)\u001b[0m\u001b[0;34m\u001b[0m\u001b[0;34m\u001b[0m\u001b[0m\n\u001b[0m\u001b[1;32m      4\u001b[0m \u001b[0mexample_result\u001b[0m\u001b[0;34m\u001b[0m\u001b[0;34m\u001b[0m\u001b[0m\n",
      "\u001b[0;32m~/Projects/dining_services/env/lib/python3.6/site-packages/tensorflow/python/keras/engine/training.py\u001b[0m in \u001b[0;36mpredict\u001b[0;34m(self, x, batch_size, verbose, steps, callbacks, max_queue_size, workers, use_multiprocessing)\u001b[0m\n\u001b[1;32m   1174\u001b[0m           \u001b[0mverbose\u001b[0m\u001b[0;34m=\u001b[0m\u001b[0mverbose\u001b[0m\u001b[0;34m,\u001b[0m\u001b[0;34m\u001b[0m\u001b[0;34m\u001b[0m\u001b[0m\n\u001b[1;32m   1175\u001b[0m           \u001b[0msteps\u001b[0m\u001b[0;34m=\u001b[0m\u001b[0msteps\u001b[0m\u001b[0;34m,\u001b[0m\u001b[0;34m\u001b[0m\u001b[0;34m\u001b[0m\u001b[0m\n\u001b[0;32m-> 1176\u001b[0;31m           callbacks=callbacks)\n\u001b[0m\u001b[1;32m   1177\u001b[0m \u001b[0;34m\u001b[0m\u001b[0m\n\u001b[1;32m   1178\u001b[0m   \u001b[0;32mdef\u001b[0m \u001b[0mreset_metrics\u001b[0m\u001b[0;34m(\u001b[0m\u001b[0mself\u001b[0m\u001b[0;34m)\u001b[0m\u001b[0;34m:\u001b[0m\u001b[0;34m\u001b[0m\u001b[0;34m\u001b[0m\u001b[0m\n",
      "\u001b[0;32m~/Projects/dining_services/env/lib/python3.6/site-packages/tensorflow/python/keras/engine/training_arrays.py\u001b[0m in \u001b[0;36mmodel_iteration\u001b[0;34m(model, inputs, targets, sample_weights, batch_size, epochs, verbose, callbacks, val_inputs, val_targets, val_sample_weights, shuffle, initial_epoch, steps_per_epoch, validation_steps, validation_freq, mode, validation_in_fit, prepared_feed_values_from_dataset, steps_name, **kwargs)\u001b[0m\n\u001b[1;32m    355\u001b[0m \u001b[0;34m\u001b[0m\u001b[0m\n\u001b[1;32m    356\u001b[0m         \u001b[0;31m# Get outputs.\u001b[0m\u001b[0;34m\u001b[0m\u001b[0;34m\u001b[0m\u001b[0;34m\u001b[0m\u001b[0m\n\u001b[0;32m--> 357\u001b[0;31m         \u001b[0mbatch_outs\u001b[0m \u001b[0;34m=\u001b[0m \u001b[0mf\u001b[0m\u001b[0;34m(\u001b[0m\u001b[0mins_batch\u001b[0m\u001b[0;34m)\u001b[0m\u001b[0;34m\u001b[0m\u001b[0;34m\u001b[0m\u001b[0m\n\u001b[0m\u001b[1;32m    358\u001b[0m         \u001b[0;32mif\u001b[0m \u001b[0;32mnot\u001b[0m \u001b[0misinstance\u001b[0m\u001b[0;34m(\u001b[0m\u001b[0mbatch_outs\u001b[0m\u001b[0;34m,\u001b[0m \u001b[0mlist\u001b[0m\u001b[0;34m)\u001b[0m\u001b[0;34m:\u001b[0m\u001b[0;34m\u001b[0m\u001b[0;34m\u001b[0m\u001b[0m\n\u001b[1;32m    359\u001b[0m           \u001b[0mbatch_outs\u001b[0m \u001b[0;34m=\u001b[0m \u001b[0;34m[\u001b[0m\u001b[0mbatch_outs\u001b[0m\u001b[0;34m]\u001b[0m\u001b[0;34m\u001b[0m\u001b[0;34m\u001b[0m\u001b[0m\n",
      "\u001b[0;32m~/Projects/dining_services/env/lib/python3.6/site-packages/tensorflow/python/keras/backend.py\u001b[0m in \u001b[0;36m__call__\u001b[0;34m(self, inputs)\u001b[0m\n\u001b[1;32m   3128\u001b[0m         \u001b[0mtensor_type\u001b[0m \u001b[0;34m=\u001b[0m \u001b[0mdtypes_module\u001b[0m\u001b[0;34m.\u001b[0m\u001b[0mas_dtype\u001b[0m\u001b[0;34m(\u001b[0m\u001b[0mtensor\u001b[0m\u001b[0;34m.\u001b[0m\u001b[0mdtype\u001b[0m\u001b[0;34m)\u001b[0m\u001b[0;34m\u001b[0m\u001b[0;34m\u001b[0m\u001b[0m\n\u001b[1;32m   3129\u001b[0m         array_vals.append(np.asarray(value,\n\u001b[0;32m-> 3130\u001b[0;31m                                      dtype=tensor_type.as_numpy_dtype))\n\u001b[0m\u001b[1;32m   3131\u001b[0m \u001b[0;34m\u001b[0m\u001b[0m\n\u001b[1;32m   3132\u001b[0m     \u001b[0;32mif\u001b[0m \u001b[0mself\u001b[0m\u001b[0;34m.\u001b[0m\u001b[0mfeed_dict\u001b[0m\u001b[0;34m:\u001b[0m\u001b[0;34m\u001b[0m\u001b[0;34m\u001b[0m\u001b[0m\n",
      "\u001b[0;32m~/Projects/dining_services/env/lib/python3.6/site-packages/numpy/core/numeric.py\u001b[0m in \u001b[0;36masarray\u001b[0;34m(a, dtype, order)\u001b[0m\n\u001b[1;32m    536\u001b[0m \u001b[0;34m\u001b[0m\u001b[0m\n\u001b[1;32m    537\u001b[0m     \"\"\"\n\u001b[0;32m--> 538\u001b[0;31m     \u001b[0;32mreturn\u001b[0m \u001b[0marray\u001b[0m\u001b[0;34m(\u001b[0m\u001b[0ma\u001b[0m\u001b[0;34m,\u001b[0m \u001b[0mdtype\u001b[0m\u001b[0;34m,\u001b[0m \u001b[0mcopy\u001b[0m\u001b[0;34m=\u001b[0m\u001b[0;32mFalse\u001b[0m\u001b[0;34m,\u001b[0m \u001b[0morder\u001b[0m\u001b[0;34m=\u001b[0m\u001b[0morder\u001b[0m\u001b[0;34m)\u001b[0m\u001b[0;34m\u001b[0m\u001b[0;34m\u001b[0m\u001b[0m\n\u001b[0m\u001b[1;32m    539\u001b[0m \u001b[0;34m\u001b[0m\u001b[0m\n\u001b[1;32m    540\u001b[0m \u001b[0;34m\u001b[0m\u001b[0m\n",
      "\u001b[0;31mValueError\u001b[0m: could not convert string to float: 'TUNA MAKI'"
     ]
    }
   ],
   "source": [
    "example_batch = train_dataset[:10]\n",
    "print(example_batch)\n",
    "example_result = model.predict(example_batch)\n",
    "example_result"
   ]
  }
 ],
 "metadata": {
  "kernelspec": {
   "display_name": "Python 3",
   "language": "python",
   "name": "python3"
  },
  "language_info": {
   "codemirror_mode": {
    "name": "ipython",
    "version": 3
   },
   "file_extension": ".py",
   "mimetype": "text/x-python",
   "name": "python",
   "nbconvert_exporter": "python",
   "pygments_lexer": "ipython3",
   "version": "3.6.7"
  }
 },
 "nbformat": 4,
 "nbformat_minor": 2
}
