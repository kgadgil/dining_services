{
 "cells": [
  {
   "cell_type": "code",
   "execution_count": 38,
   "metadata": {},
   "outputs": [],
   "source": [
    "from __future__ import absolute_import, division, print_function, unicode_literals\n",
    "import functools\n",
    "\n",
    "import numpy as np\n",
    "import tensorflow as tf\n",
    "tf.enable_eager_execution()"
   ]
  },
  {
   "cell_type": "code",
   "execution_count": 39,
   "metadata": {},
   "outputs": [],
   "source": [
    "csv_path=\"/home/punishment/Projects/dining_services/data/f2016.csv\"\n",
    "def sales_map(item, family, major, qty):\n",
    "    return {'Menu Item Name':item,'Family Group':family,'Major Group':major,'Qty Sold':qty}\n",
    " "
   ]
  },
  {
   "cell_type": "code",
   "execution_count": 41,
   "metadata": {},
   "outputs": [
    {
     "name": "stdout",
     "output_type": "stream",
     "text": [
      "(\"9 X 9 COMPOSTBLE\", \"RETAIL\", \"RETAIL\", \"58850\")\n"
     ]
    }
   ],
   "source": [
    "sales_dataset = tf.data.experimental.CsvDataset(\n",
    "    filenames=csv_path,\n",
    "    record_defaults=[tf.string, tf.string, tf.string, tf.string],\n",
    "    select_cols=[0, 1, 2, 3],\n",
    "    field_delim=\",\",\n",
    "    header=True)\n",
    " \n",
    "#sales_dataset = sales_dataset.filter(lambda item, family, major, qty)\n",
    "#sales_dataset = sales_dataset.map(map_func=sales_map)\n",
    "#sales_dataset = sales_dataset.batch(1)\n",
    " \n",
    "for data in sales_dataset:\n",
    "    tf.print(data)  # Print : {'Name': [Wii Sports], 'Platform': [Wii], 'Year': [2006]}\n",
    "    break"
   ]
  },
  {
   "cell_type": "code",
   "execution_count": null,
   "metadata": {},
   "outputs": [],
   "source": []
  }
 ],
 "metadata": {
  "kernelspec": {
   "display_name": "Python 3",
   "language": "python",
   "name": "python3"
  },
  "language_info": {
   "codemirror_mode": {
    "name": "ipython",
    "version": 3
   },
   "file_extension": ".py",
   "mimetype": "text/x-python",
   "name": "python",
   "nbconvert_exporter": "python",
   "pygments_lexer": "ipython3",
   "version": "3.6.7"
  }
 },
 "nbformat": 4,
 "nbformat_minor": 2
}
