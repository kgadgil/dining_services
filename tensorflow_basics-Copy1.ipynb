{
 "cells": [
  {
   "cell_type": "code",
   "execution_count": 7,
   "metadata": {},
   "outputs": [],
   "source": [
    "from __future__ import absolute_import, division, print_function, unicode_literals\n",
    "import functools, os\n",
    "\n",
    "import numpy as np\n",
    "import tensorflow as tf\n",
    "tf.enable_eager_execution()"
   ]
  },
  {
   "cell_type": "code",
   "execution_count": 8,
   "metadata": {},
   "outputs": [
    {
     "name": "stdout",
     "output_type": "stream",
     "text": [
      "/home/punishment/Projects/dining_services\n"
     ]
    }
   ],
   "source": [
    "print(os.getcwd())\n",
    "csv_path=\"merged.csv\"\n",
    "#idx,Menu Item Number,Menu Item,Sales Count,Sales Total\n",
    "def sales_map(idx, num, itm, salesCnt, salesTotal, date, day, restaurant):\n",
    "    return {'idx':idx,'Menu Item Number':num,'Menu Item':itm,'Sales Count':salesCnt,'Sales Total':salesTotal, 'Date':date, 'Day':day, 'Name of Restaurant':restaurant}\n",
    " "
   ]
  },
  {
   "cell_type": "code",
   "execution_count": 9,
   "metadata": {},
   "outputs": [
    {
     "name": "stdout",
     "output_type": "stream",
     "text": [
      "(\"7\", \"2429\", \"TO GO\", \"1\", \"0\", \"2019-03-18\", \"0\", \"Origami\")\n"
     ]
    }
   ],
   "source": [
    "sales_dataset = tf.data.experimental.CsvDataset(\n",
    "    filenames=csv_path,\n",
    "    record_defaults=[tf.string, tf.string, tf.string, tf.string, tf.string, tf.string, tf.string, tf.string],\n",
    "    select_cols=[0, 1, 2, 3, 4, 5, 6, 7],\n",
    "    field_delim=\",\",\n",
    "    header=True)\n",
    " \n",
    "#sales_dataset = sales_dataset.filter(lambda item, family, major, qty)\n",
    "#sales_dataset = sales_dataset.map(map_func=sales_map)\n",
    "#sales_dataset = sales_dataset.batch(1)\n",
    " \n",
    "for data in sales_dataset:\n",
    "    tf.print(data)  \n",
    "    break"
   ]
  },
  {
   "cell_type": "code",
   "execution_count": null,
   "metadata": {},
   "outputs": [],
   "source": []
  }
 ],
 "metadata": {
  "kernelspec": {
   "display_name": "Python 3",
   "language": "python",
   "name": "python3"
  },
  "language_info": {
   "codemirror_mode": {
    "name": "ipython",
    "version": 3
   },
   "file_extension": ".py",
   "mimetype": "text/x-python",
   "name": "python",
   "nbconvert_exporter": "python",
   "pygments_lexer": "ipython3",
   "version": "3.6.7"
  }
 },
 "nbformat": 4,
 "nbformat_minor": 2
}
